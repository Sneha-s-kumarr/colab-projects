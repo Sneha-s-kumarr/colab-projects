{
  "nbformat": 4,
  "nbformat_minor": 0,
  "metadata": {
    "colab": {
      "provenance": [],
      "authorship_tag": "ABX9TyMtxf8hjBZ4emz+lhzrjy3P",
      "include_colab_link": true
    },
    "kernelspec": {
      "name": "python3",
      "display_name": "Python 3"
    },
    "language_info": {
      "name": "python"
    }
  },
  "cells": [
    {
      "cell_type": "markdown",
      "metadata": {
        "id": "view-in-github",
        "colab_type": "text"
      },
      "source": [
        "<a href=\"https://colab.research.google.com/github/Sneha-s-kumarr/colab-projects/blob/main/Pytube.ipynb\" target=\"_parent\"><img src=\"https://colab.research.google.com/assets/colab-badge.svg\" alt=\"Open In Colab\"/></a>"
      ]
    },
    {
      "cell_type": "markdown",
      "source": [
        "**To download youtube video using url**"
      ],
      "metadata": {
        "id": "5mB1tA4gY0hf"
      }
    },
    {
      "cell_type": "code",
      "source": [
        "pip install pytube"
      ],
      "metadata": {
        "colab": {
          "base_uri": "https://localhost:8080/"
        },
        "id": "rWAYoP2hYJKh",
        "outputId": "89fd6172-7241-4d2b-d06c-1d52c531a8ee"
      },
      "execution_count": 2,
      "outputs": [
        {
          "output_type": "stream",
          "name": "stdout",
          "text": [
            "Looking in indexes: https://pypi.org/simple, https://us-python.pkg.dev/colab-wheels/public/simple/\n",
            "Collecting pytube\n",
            "  Downloading pytube-12.1.2-py3-none-any.whl (57 kB)\n",
            "\u001b[2K     \u001b[90m━━━━━━━━━━━━━━━━━━━━━━━━━━━━━━━━━━━━━━━━\u001b[0m \u001b[32m57.0/57.0 KB\u001b[0m \u001b[31m5.7 MB/s\u001b[0m eta \u001b[36m0:00:00\u001b[0m\n",
            "\u001b[?25hInstalling collected packages: pytube\n",
            "Successfully installed pytube-12.1.2\n"
          ]
        }
      ]
    },
    {
      "cell_type": "code",
      "execution_count": 4,
      "metadata": {
        "colab": {
          "base_uri": "https://localhost:8080/"
        },
        "id": "gC2dqUAIX5Z1",
        "outputId": "bea3c2fd-6f07-4c8a-d53e-73537997b254"
      },
      "outputs": [
        {
          "output_type": "stream",
          "name": "stdout",
          "text": [
            "Enter the URL of the video you want to download: \n",
            ">> https://www.youtube.com/watch?v=UsJkhu8K1gs&list=RDWVZH2kL0_Ws&index=9\n",
            "Enter the destination (leave blank for current directory)\n",
            ">> \n",
            "Aaro Nenjil Video Song with Lyrics | Godha Official | Tovino Thomas | Wamiqa Gabbi | Shaan Rahman has been successfully downloaded.\n"
          ]
        }
      ],
      "source": [
        "from pytube import YouTube\n",
        "import os\n",
        "  \n",
        "# url input from user\n",
        "yt = YouTube(\n",
        "    str(input(\"Enter the URL of the video you want to download: \\n>> \")))\n",
        "  \n",
        "# extract only audio\n",
        "video = yt.streams.first()\n",
        "  \n",
        "# check for destination to save file\n",
        "print(\"Enter the destination (leave blank for current directory)\")\n",
        "destination = str(input(\">> \")) or '.'\n",
        "  \n",
        "# download the file\n",
        "out_file = video.download(output_path=destination)\n",
        "  \n",
        "# save the file\n",
        "base, ext = os.path.splitext(out_file)\n",
        "new_file = base + '.mp3'\n",
        "os.rename(out_file, new_file)\n",
        "  \n",
        "# result of success\n",
        "print(yt.title + \" has been successfully downloaded.\")"
      ]
    }
  ]
}